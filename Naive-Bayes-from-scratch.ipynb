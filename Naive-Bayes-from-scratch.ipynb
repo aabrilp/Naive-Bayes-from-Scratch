{
 "cells": [
  {
   "cell_type": "markdown",
   "metadata": {
    "tags": []
   },
   "source": [
    "# Naive Bayes Classifier from Scratch"
   ]
  },
  {
   "cell_type": "markdown",
   "metadata": {},
   "source": [
    "## Part 1: Base code\n",
    "\n",
    "Instructions\n",
    "1. Do **not** shuffle the data set\n",
    "2. Treat the features as nominal and use them as provided (e.g., do **not** convert them to other feature types, such as numeric ones). Implement a Naive Bayes classifier with appropriate likelihood function for the data.\n",
    "3. You should implement the Naive Bayes classifier from scratch. Do **not** use existing implementations/learning algorithms. You must use epsilon smoothing strategy as discussed in the Naive Bayes lecture. \n",
    "4. Apart from the instructions in point 3, you may use libraries to help you with data reading, representation, maths or evaluation.\n",
    "5. Ensure that all and only required information is printed, as indicated in the final three code cells. Failure to adhere to print the required information will result in **[-1 mark]** per case. *(We don't mind details like you print a list or several numbers -- just make sure the information is displayed so that it's easily accessible)*\n",
    "6. Please place the jupyter notebook into the same folder as the input data.\n"
   ]
  },
  {
   "cell_type": "code",
   "execution_count": 1,
   "metadata": {},
   "outputs": [
    {
     "name": "stderr",
     "output_type": "stream",
     "text": [
      "C:\\Users\\hana3\\anaconda3\\lib\\site-packages\\scipy\\__init__.py:146: UserWarning: A NumPy version >=1.16.5 and <1.23.0 is required for this version of SciPy (detected version 1.23.1\n",
      "  warnings.warn(f\"A NumPy version >={np_minversion} and <{np_maxversion}\"\n"
     ]
    }
   ],
   "source": [
    "import pandas as pd\n",
    "import numpy as np\n",
    "from collections import Counter\n",
    "from sklearn import metrics "
   ]
  },
  {
   "cell_type": "code",
   "execution_count": 2,
   "metadata": {},
   "outputs": [],
   "source": [
    "# This function should open a csv file and read the data into a useable format [0.5 mark]\n",
    "def preprocess(filename):\n",
    "    \n",
    "    # Stripping and splitting raw data\n",
    "    instances = []\n",
    "    with open(filename, mode='r') as raw_data:  \n",
    "        for instance in raw_data: ##\n",
    "            instances.append(instance.strip().split(\",\")[1:])\n",
    "    \n",
    "    # Converting data into pandas Data Frame format\n",
    "    header = instances[0]\n",
    "    data_df = pd.DataFrame(instances[1:], columns= header) \n",
    "    \n",
    "    return data_df"
   ]
  },
  {
   "cell_type": "code",
   "execution_count": 3,
   "metadata": {},
   "outputs": [],
   "source": [
    "# This function should build a supervised NB model [3 marks]\n",
    "def train(train_data):\n",
    "    \n",
    "    Y_label = Y_label = train_data.columns[-1] # Getting the label of the last column   \n",
    "    classes = sorted(Counter(train_data[Y_label])) # Creating a list of classes \n",
    "    attributes = list(train_data.columns[:-1]) # Creating a list of attributes\n",
    "    epsilon = (1/len(train_data))/100 # Defining value of epsilon for the smoothing\n",
    "\n",
    "    priors = {}  # Creating a dictionary for prior probabilities per class\n",
    "    counting = Counter(train_data[Y_label]) # Counting classes\n",
    "    counts_per_class = dict(sorted(counting.items())) # sorting the counts dictionary according to the 'classes' list\n",
    "\n",
    "    likelihoods = [] # Creating a list for the likelihoods per class per attribute\n",
    "    for c in classes:\n",
    "\n",
    "        # Calculating prior probabilities per class\n",
    "        priors[c] = counts_per_class.get(c)/len(train_data) ###\n",
    "\n",
    "        # Calculating the likelihoods per class per attribute per attribute value\n",
    "        like_per_att = []\n",
    "        class_rows = train_data.loc[train_data[Y_label] == c] # filtering rows of each class\n",
    "        for att in attributes:\n",
    "            att_values = sorted(list(train_data[att].unique())) # list of attribute values for each attribute\n",
    "            counts_per_att = Counter(class_rows[att]) # counting attribute values per attribute\n",
    "\n",
    "            counts_per_att_with_ceros = {}\n",
    "            like_per_att_value = {}\n",
    "            for a_value in att_values:\n",
    "                counts_per_att_with_ceros[a_value] = counts_per_att[a_value] # adding unseen attribute values to the dictionary\n",
    "                like_per_att_value[a_value] = counts_per_att_with_ceros[a_value] / counts_per_class[c] # likelihood per attribute value\n",
    "\n",
    "                if  like_per_att_value[a_value] == 0:  # Applying epsilon smoothing\n",
    "                    like_per_att_value[a_value] = float(epsilon)  \n",
    "\n",
    "            like_per_att.append(like_per_att_value)\n",
    "        likelihoods.append(like_per_att)\n",
    "\n",
    "    return (classes, priors, likelihoods)"
   ]
  },
  {
   "cell_type": "code",
   "execution_count": 4,
   "metadata": {},
   "outputs": [],
   "source": [
    "# This function should predict the class for a set of instances, based on a trained model [1.5 marks]\n",
    "def predict(classes, priors, likelihoods, X_test):\n",
    "    \n",
    "    final_probs_per_class = []\n",
    "    predictions = []\n",
    "    for i in range(len(X_test)):\n",
    "        \n",
    "        # Creating a list for final probabilities per class\n",
    "        final_probs = [] \n",
    "        for c in range(len(classes)): \n",
    "            \n",
    "            # Calculating the final probability of the test instance per class\n",
    "            final_prob = np.log(priors[classes[c]])\n",
    "            for att in range(len(X_test[0])):\n",
    "                final_prob += np.log(likelihoods[c][att][X_test[i][att]])\n",
    "\n",
    "            final_probs.append(final_prob)\n",
    "        \n",
    "        # Appending predicted probabilities per class\n",
    "        final_probs_per_class.append(final_probs)\n",
    "        \n",
    "        # Choosing the class with the maximum final probability\n",
    "        predictions.append(classes[final_probs.index(max(final_probs))]) \n",
    "    \n",
    "    return (final_probs_per_class, predictions)"
   ]
  },
  {
   "cell_type": "code",
   "execution_count": 5,
   "metadata": {},
   "outputs": [],
   "source": [
    "# This function should evaluate a set of predictions [1 mark]\n",
    "def evaluate(classes, Y_predicted, Y_true):\n",
    "    \n",
    "    accuracy = metrics.accuracy_score(Y_true, Y_predicted) # Calculating accuracy score\n",
    "    error_rate = 1 - accuracy # Calculating error rate\n",
    " \n",
    "    if len(classes) == 2: # if binary\n",
    "        f_score_1 = metrics.f1_score(Y_true, Y_predicted, pos_label = classes[0], average = 'binary') # Calculating f score with beta = 1 for binary outcome\n",
    "    \n",
    "    else: # if multiclass\n",
    "        f_score_1 = metrics.f1_score(Y_true, Y_predicted, average = 'weighted') # I used weighted average here to account for class imbalance\n",
    "\n",
    "    conf_matrix = metrics.confusion_matrix(Y_true, Y_predicted) # Creating the confusion matrix\n",
    "    \n",
    "    return (accuracy, error_rate, f_score_1, conf_matrix)"
   ]
  },
  {
   "cell_type": "markdown",
   "metadata": {},
   "source": [
    "## Bank Marketing"
   ]
  },
  {
   "cell_type": "code",
   "execution_count": 6,
   "metadata": {},
   "outputs": [
    {
     "name": "stdout",
     "output_type": "stream",
     "text": [
      "Accuracy score:  0.8874142888741429\n",
      "Error rate:  0.11258571112585714\n",
      "F1-Score:  0.9385339934790485\n",
      "\n",
      "Confusion Matrix:\n",
      " [[3886  114]\n",
      " [ 395  126]] \n",
      "\n",
      "Feature vectors of instances [0, 1, 2]: [['unemployed', 'married', 'primary', 'no', 'no', 'no', 'cellular', 'oct', 'unknown'], ['services', 'married', 'secondary', 'no', 'yes', 'yes', 'cellular', 'may', 'failure'], ['management', 'single', 'tertiary', 'no', 'yes', 'no', 'cellular', 'apr', 'failure']]\n",
      "\n",
      "Number of instances (N):  4521\n",
      "Number of features (F):  9\n",
      "Number of labels (L):  2\n",
      "\n",
      "\n",
      "Predicted class probabilities for instance N-3:  {'no': -6.711607763537066, 'yes': -8.58311083143239}\n",
      "Predicted class for instance N-3:  no\n",
      "\n",
      "Predicted class probabilities for instance N-2:  {'no': -10.619918711707392, 'yes': -11.68220339799834}\n",
      "Predicted class for instance N-2:  no\n",
      "\n",
      "Predicted class probabilities for instance N-1:  {'no': -14.88701380580801, 'yes': -16.28697922108946}\n",
      "Predicted class for instance N-1:  no\n"
     ]
    }
   ],
   "source": [
    "# This cell should act as your \"main\" function where you call the above functions \n",
    "# on the full Bank Marketing data set, and print the evaluation score. [0.33 marks]\n",
    "\n",
    "\n",
    "\n",
    "# First, read in the data and apply your NB model to the Bank Marketing data\n",
    "\n",
    "bank_marketing = preprocess('bank-marketing.csv')\n",
    "\n",
    "# separating training from test datasets\n",
    "X_train = bank_marketing \n",
    "X_test = bank_marketing.iloc[:,:-1].values\n",
    "\n",
    "# Training with NB model and predciting classes\n",
    "classes, priors, likelihoods = train(X_train)\n",
    "predicted_probs, Y_predicted = predict(classes, priors, likelihoods, X_test)\n",
    "\n",
    "# Second, print the full evaluation results from the evaluate() function\n",
    "\n",
    "Y_true = bank_marketing.iloc[:,-1].values\n",
    "accuracy, error_rate, f_score_1, confusion_matrix = evaluate(classes, Y_predicted, Y_true)\n",
    "    \n",
    "print(\"Accuracy score: \", accuracy)\n",
    "print(\"Error rate: \", error_rate)\n",
    "print(\"F1-Score: \", f_score_1)\n",
    "print(\"\\nConfusion Matrix:\\n\", confusion_matrix, \"\\n\")\n",
    "\n",
    "# Third, print data statistics and model predictions, as instructed below \n",
    "# N is the total number of instances, F the total number of features, L the total number of labels\n",
    "# The \"class probabilities\" may be unnormalized\n",
    "\n",
    "\n",
    "print(\"Feature vectors of instances [0, 1, 2]:\", X_test[0:3].tolist() )\n",
    "\n",
    "print(\"\\nNumber of instances (N): \", len(bank_marketing)) \n",
    "print(\"Number of features (F): \", len(list(X_test[0])))\n",
    "print(\"Number of labels (L): \", len(classes))\n",
    "\n",
    "print(\"\\n\\nPredicted class probabilities for instance N-3: \", dict(zip(classes, predicted_probs[-3])))\n",
    "print(\"Predicted class for instance N-3: \", Y_predicted[-3])\n",
    "print(\"\\nPredicted class probabilities for instance N-2: \", dict(zip(classes, predicted_probs[-2])) )\n",
    "print(\"Predicted class for instance N-2: \", Y_predicted[-3])\n",
    "print(\"\\nPredicted class probabilities for instance N-1: \", dict(zip(classes, predicted_probs[-1])))\n",
    "print(\"Predicted class for instance N-1: \", Y_predicted[-3])\n",
    "\n"
   ]
  },
  {
   "cell_type": "markdown",
   "metadata": {},
   "source": [
    "## Student"
   ]
  },
  {
   "cell_type": "code",
   "execution_count": 7,
   "metadata": {},
   "outputs": [
    {
     "name": "stdout",
     "output_type": "stream",
     "text": [
      "Accuracy score:  0.48382126348228044\n",
      "Error rate:  0.5161787365177195\n",
      "F1-Score:  0.4834963990558278\n",
      "\n",
      "Confusion Matrix:\n",
      " [[ 32   2   9  16   6   0]\n",
      " [  2   8   4   2   1   0]\n",
      " [ 19   1  42  26  21   3]\n",
      " [ 17   2  24  69  39   3]\n",
      " [  4   2  10  43 111  31]\n",
      " [  2   1   5   7  33  52]] \n",
      "\n",
      "Feature vectors of instances [0, 1, 2]: [['GP', 'F', 'U', 'GT3', 'A', 'high', 'high', 'at_home', 'teacher', 'course', 'mother', 'medium', 'medium', 'none', 'yes', 'no', 'no', 'no', 'yes', 'yes', 'no', 'no', 'good', 'mediocre', 'good', 'very_bad', 'very_bad', 'mediocre', 'four_to_six'], ['GP', 'F', 'U', 'GT3', 'T', 'low', 'low', 'at_home', 'other', 'course', 'father', 'low', 'medium', 'none', 'no', 'yes', 'no', 'no', 'no', 'yes', 'yes', 'no', 'excellent', 'mediocre', 'mediocre', 'very_bad', 'very_bad', 'mediocre', 'one_to_three'], ['GP', 'F', 'U', 'LE3', 'T', 'low', 'low', 'at_home', 'other', 'other', 'mother', 'low', 'medium', 'none', 'yes', 'no', 'no', 'no', 'yes', 'yes', 'yes', 'no', 'good', 'mediocre', 'bad', 'bad', 'mediocre', 'mediocre', 'four_to_six']]\n",
      "\n",
      "Number of instances (N):  649\n",
      "Number of features (F):  29\n",
      "Number of labels (L):  6\n",
      "\n",
      "\n",
      "Predicted class probabilities for instance N-3:  {'A': -41.936972911010834, 'A+': -47.77171465717907, 'B': -29.638141637141143, 'C': -29.090250109243986, 'D': -27.552359713949045, 'F': -26.456204229824667}\n",
      "Predicted class for instance N-3:  F\n",
      "\n",
      "Predicted class probabilities for instance N-2:  {'A': -38.26191454141717, 'A+': -50.41352840720273, 'B': -34.597061531595976, 'C': -35.38450368426876, 'D': -29.404207192607164, 'F': -31.409841590368494}\n",
      "Predicted class for instance N-2:  F\n",
      "\n",
      "Predicted class probabilities for instance N-1:  {'A': -44.018145680130196, 'A+': -48.46316390779804, 'B': -32.56646829531062, 'C': -33.426813330253935, 'D': -27.451579114373867, 'F': -29.636481651604864}\n",
      "Predicted class for instance N-1:  F\n"
     ]
    }
   ],
   "source": [
    "# This cell should act as your \"main\" function where you call the above functions \n",
    "# on the full Student data set, and print the evaluation score. [0.33 marks]\n",
    "\n",
    "\n",
    "\n",
    "# First, read in the data and apply your NB model to the Student data\n",
    "\n",
    "student = preprocess('student.csv')\n",
    "\n",
    "# Separating training from test datasets\n",
    "X_train = student \n",
    "X_test = student.iloc[:,:-1].values\n",
    "\n",
    "# Training with NB model and predciting classes\n",
    "classes, priors, likelihoods = train(X_train)\n",
    "predicted_probs, Y_predicted = predict(classes, priors, likelihoods, X_test)\n",
    "\n",
    "# Second, print the full evaluation results from the evaluate() function\n",
    "Y_true = student.iloc[:,-1].values\n",
    "accuracy, error_rate, f_score_1, confusion_matrix = evaluate(classes, Y_predicted, Y_true)\n",
    "    \n",
    "print(\"Accuracy score: \", accuracy)\n",
    "print(\"Error rate: \", error_rate)\n",
    "print(\"F1-Score: \", f_score_1)\n",
    "print(\"\\nConfusion Matrix:\\n\", confusion_matrix, \"\\n\")\n",
    "\n",
    "# Third, print data statistics and model predictions, as instructed below \n",
    "# N is the total number of instances, F the total number of features, L the total number of labels\n",
    "# The \"class probabilities\" may be unnormalized\n",
    "\n",
    "\n",
    "print(\"Feature vectors of instances [0, 1, 2]:\", X_test[0:3].tolist() )\n",
    "\n",
    "print(\"\\nNumber of instances (N): \", len(student)) \n",
    "print(\"Number of features (F): \", len(list(X_test[0])))\n",
    "print(\"Number of labels (L): \", len(classes))\n",
    "\n",
    "print(\"\\n\\nPredicted class probabilities for instance N-3: \", dict(zip(classes, predicted_probs[-3])))\n",
    "print(\"Predicted class for instance N-3: \", Y_predicted[-3])\n",
    "print(\"\\nPredicted class probabilities for instance N-2: \", dict(zip(classes, predicted_probs[-2])) )\n",
    "print(\"Predicted class for instance N-2: \", Y_predicted[-3])\n",
    "print(\"\\nPredicted class probabilities for instance N-1: \", dict(zip(classes, predicted_probs[-1])))\n",
    "print(\"Predicted class for instance N-1: \", Y_predicted[-3])\n"
   ]
  },
  {
   "cell_type": "markdown",
   "metadata": {},
   "source": [
    "## Obesity"
   ]
  },
  {
   "cell_type": "code",
   "execution_count": 8,
   "metadata": {},
   "outputs": [
    {
     "name": "stdout",
     "output_type": "stream",
     "text": [
      "Accuracy score:  0.7783041212695405\n",
      "Error rate:  0.22169587873045948\n",
      "F1-Score:  0.7717073170731708\n",
      "\n",
      "Confusion Matrix:\n",
      " [[791 348]\n",
      " [120 852]] \n",
      "\n",
      "Feature vectors of instances [0, 1, 2]: [['Male', 'yes', 'yes', 'mid', 'high', 'Sometimes', 'yes', 'mid', 'no', 'low-activity', 'mediocre', 'Frequently', 'Public_Transportation'], ['Male', 'yes', 'yes', 'mid', 'high', 'Sometimes', 'no', 'high', 'no', 'low-activity', 'good', 'Sometimes', 'Public_Transportation'], ['Male', 'yes', 'yes', 'high', 'high', 'Sometimes', 'no', 'high', 'no', 'low-activity', 'good', 'Sometimes', 'Public_Transportation']]\n",
      "\n",
      "Number of instances (N):  2111\n",
      "Number of features (F):  13\n",
      "Number of labels (L):  2\n",
      "\n",
      "\n",
      "Predicted class probabilities for instance N-3:  {'not-obese': -11.010971850189438, 'obese': -16.78139621234939}\n",
      "Predicted class for instance N-3:  not-obese\n",
      "\n",
      "Predicted class probabilities for instance N-2:  {'not-obese': -10.299211743895615, 'obese': -15.249446788238833}\n",
      "Predicted class for instance N-2:  not-obese\n",
      "\n",
      "Predicted class probabilities for instance N-1:  {'not-obese': -7.261582154381628, 'obese': -5.340573755268081}\n",
      "Predicted class for instance N-1:  not-obese\n"
     ]
    }
   ],
   "source": [
    "\n",
    "# This cell should act as your \"main\" function where you call the above functions \n",
    "# on the full Obesity data set, and print the evaluation score. [0.33 marks]\n",
    "\n",
    "\n",
    "# First, read in the data and apply your NB model to the Obesity data\n",
    "\n",
    "obesity = preprocess('obesity.csv')\n",
    "\n",
    "# Separating training from test datasets\n",
    "X_train = obesity \n",
    "X_test = obesity.iloc[:,:-1].values\n",
    "\n",
    "# Training with NB model and predciting classes\n",
    "classes, priors, likelihoods = train(X_train)\n",
    "predicted_probs, Y_predicted = predict(classes, priors, likelihoods, X_test)\n",
    "\n",
    "# Second, print the full evaluation results from the evaluate() function\n",
    "\n",
    "Y_true = obesity.iloc[:,-1].values\n",
    "accuracy, error_rate, f_score_1, confusion_matrix = evaluate(classes, Y_predicted, Y_true)\n",
    "\n",
    "print(\"Accuracy score: \", accuracy)\n",
    "print(\"Error rate: \", error_rate)\n",
    "print(\"F1-Score: \", f_score_1)\n",
    "print(\"\\nConfusion Matrix:\\n\", confusion_matrix, \"\\n\")\n",
    "\n",
    "\n",
    "# # Third, print data statistics and model predictions, as instructed below \n",
    "# # N is the total number of instances, F the total number of features, L the total number of labels\n",
    "# # The \"class probabilities\" may be unnormalized\n",
    "\n",
    "\n",
    "print(\"Feature vectors of instances [0, 1, 2]:\", X_test[0:3].tolist() )\n",
    "\n",
    "print(\"\\nNumber of instances (N): \", len(obesity)) \n",
    "print(\"Number of features (F): \", len(list(X_test[0])))\n",
    "print(\"Number of labels (L): \", len(classes))\n",
    "\n",
    "print(\"\\n\\nPredicted class probabilities for instance N-3: \", dict(zip(classes, predicted_probs[-3])))\n",
    "print(\"Predicted class for instance N-3: \", Y_predicted[-3])\n",
    "print(\"\\nPredicted class probabilities for instance N-2: \", dict(zip(classes, predicted_probs[-2])) )\n",
    "print(\"Predicted class for instance N-2: \", Y_predicted[-3])\n",
    "print(\"\\nPredicted class probabilities for instance N-1: \", dict(zip(classes, predicted_probs[-1])))\n",
    "print(\"Predicted class for instance N-1: \", Y_predicted[-3])\n"
   ]
  },
  {
   "cell_type": "markdown",
   "metadata": {},
   "source": [
    "## Part 2: Conceptual questions"
   ]
  },
  {
   "cell_type": "markdown",
   "metadata": {},
   "source": [
    "### Question 1: One-R Baseline\n",
    "\n",
    "a) In order to understand whether our machine learning model is performing well, we typically compare its performance against alternative models. Implement a One-R baseline model from scratch as introduced in the evaluation lecture. Print the feature name and its corresponding error rate that your One-R classifier selects. ( do not use existing implementations/learning algorithms from libraries like sklearn)\n",
    "\n",
    "b) How does the performance of the Naive Bayes classifier compare against your baseline model? Explain your observations on Student and one additional dataset of your choice and justify your response.\n"
   ]
  },
  {
   "cell_type": "code",
   "execution_count": 9,
   "metadata": {},
   "outputs": [
    {
     "name": "stdout",
     "output_type": "stream",
     "text": [
      "Student Dataset\n",
      "Selected attribute:  Fedu \n",
      "Error rate : 0.6656394453004623\n",
      "\n",
      "Bank Marketing Dataset\n",
      "Selected attribute:  poutcome \n",
      "Error rate : 0.1070559610705596\n",
      "\n",
      "Obesity Dataset\n",
      "Selected attribute:  family_history_with_overweight \n",
      "Error rate : 0.36475603979156795\n"
     ]
    }
   ],
   "source": [
    "# Write additional code here, if necessary (you may insert additional code cells)\n",
    "# You should implement the One-R classifier from scratch. Do not use existing implementations/learning algorithms.\n",
    "# Print the feature name and its corresponding error rate that One-R selects, in addition to any evaluation scores.\n",
    "\n",
    "def one_r(filename):\n",
    "\n",
    "    data = preprocess(filename) # Reading and preprocessing the data\n",
    "\n",
    "    classes = sorted(Counter(data.iloc[:,-1])) # Creating a list of classes \n",
    "    attributes = list(data.columns[:-1]) # Creating a list of attributes \n",
    "\n",
    "    # Calculating the error rates for each attribute\n",
    "    error_rates = []\n",
    "    for a in attributes: \n",
    "        att_values = list(data[a].unique())\n",
    "        \n",
    "        # iterating per attribute value\n",
    "        class_counts_per_a_value = {}\n",
    "        error_a_value = 0\n",
    "        for a_value in att_values:\n",
    "            a_value_rows = data[data[a] == a_value] # Filtering the rows that have the attribute value\n",
    "            class_counts_per_a_value[a_value] = dict(Counter(a_value_rows.iloc[:, -1])) # Counting the classes\n",
    "            \n",
    "            # Finding the value of the most frequent class\n",
    "            max_value = max(list(class_counts_per_a_value[a_value].values()))\n",
    "            \n",
    "        #Calculating the error_rate for each attribute\n",
    "            error_a_value += sum(list(class_counts_per_a_value[a_value].values())) - max_value\n",
    "        att_error = error_a_value/len(data) \n",
    "        error_rates.append(att_error) \n",
    "\n",
    "    best_att_idx = error_rates.index(min(error_rates))\n",
    "    best_att = attributes[best_att_idx]\n",
    "\n",
    "    print('Selected attribute: ', best_att, '\\nError rate :', min(error_rates))\n",
    "\n",
    "# Analysing all the datasets\n",
    "\n",
    "print('Student Dataset')\n",
    "one_r('student.csv')\n",
    "\n",
    "print('\\nBank Marketing Dataset')\n",
    "one_r('bank-marketing.csv')\n",
    "\n",
    "print('\\nObesity Dataset')\n",
    "one_r('obesity.csv')\n"
   ]
  },
  {
   "cell_type": "markdown",
   "metadata": {},
   "source": [
    "**Answer to Question 1.b** \n",
    "\n",
    "Student dataset:\n",
    "\n",
    "Error with NB = 0.5162\n",
    "Error rate with One-R = 0.6656\n",
    "We can see that the error rate with One-R has increased compared with NB, it means the performance of our NB model is better, which is good because it means our model is useful and better classifier than predicting with One-R.\n",
    "\n",
    "\n",
    "Obesity dataset:\n",
    "\n",
    "Error with NB = 0.2217\n",
    "Error rate with One-R = 0.3648\n",
    "In this dataset, we can see similar behaviour as the previous one, the error rate has increased with One_r, meaning our NB model is more useful because it has better performance than applying One-R to classify if a person is obese or not.\n",
    "\n",
    "\n",
    "In both cases, our NB model has beaten the One-R baseline, so it is worth it to apply it instead of using One-R to predict the classes."
   ]
  },
  {
   "cell_type": "markdown",
   "metadata": {},
   "source": [
    "### Question 2: Evaluation strategy\n",
    "\n",
    "Evaluating the model on the same data that was used to train the model is considered to be a major mistake in Machine Learning. Implement a cross-validation evaluation strategy, and inspect how your estimate of effectiveness changes, compared to testing on the training data? Explain why. You must consider Bank Marketing and one additional dataset of your choice in your answer."
   ]
  },
  {
   "cell_type": "code",
   "execution_count": 10,
   "metadata": {},
   "outputs": [],
   "source": [
    "# Write additional code here, if necessary (you may insert additional code cells)\n",
    "\n",
    "from sklearn.model_selection import KFold\n",
    "\n",
    "def NB_with_CV (dataset_df, K): # K = number of splits\n",
    "\n",
    "    folds = KFold(n_splits = K)\n",
    "\n",
    "    # Creating the lists for the evaluation metrics per fold \n",
    "    accuracies = []\n",
    "    error_rates = []\n",
    "    f1_scores = []\n",
    "\n",
    "    for train_idx, test_idx in folds.split(dataset_df):\n",
    "\n",
    "        # Spliting the data\n",
    "        train_data = np.array(dataset_df.iloc[train_idx, :])\n",
    "        X_test = np.array(dataset_df.iloc[test_idx, :-1])\n",
    "\n",
    "        # Training and predicting using the NB model\n",
    "        classes, priors, likelihoods = train(dataset_df)\n",
    "        predicted_probs, Y_predicted = predict(classes, priors, likelihoods, X_test)\n",
    "\n",
    "        # Evaluating the folds\n",
    "        Y_true = dataset_df.iloc[test_idx,-1].values\n",
    "        acc, error_rate, f_score_1, conf_matrix = evaluate(classes, Y_predicted, Y_true)\n",
    "\n",
    "        accuracies.append(acc)\n",
    "        error_rates.append(error_rate)\n",
    "        f1_scores.append(f_score_1)\n",
    "\n",
    "    # Getting the average of the evaluation metrics\n",
    "    final_accuracy = sum(accuracies)/K\n",
    "    final_err_rate = sum(error_rates)/K\n",
    "    final_f1_score = sum(f1_scores)/K\n",
    "\n",
    "    print(\"\\nThe average accuracy score with\", K, \"folds is: \", final_accuracy)\n",
    "    print(\"The average error rate with\", K, \"folds is: \", final_err_rate)\n",
    "    print(\"The average F1 score with\", K, \"folds is: \", final_f1_score)\n"
   ]
  },
  {
   "cell_type": "code",
   "execution_count": 11,
   "metadata": {},
   "outputs": [
    {
     "name": "stdout",
     "output_type": "stream",
     "text": [
      "Bank Marketing Dataset:\n",
      "\n",
      "The average accuracy score with 5 folds is:  0.8874160269887057\n",
      "The average error rate with 5 folds is:  0.11258397301129419\n",
      "The average F1 score with 5 folds is:  0.9385242060062009\n",
      "\n",
      "The average accuracy score with 10 folds is:  0.8874162417706929\n",
      "The average error rate with 10 folds is:  0.11258375822930708\n",
      "The average F1 score with 10 folds is:  0.9384820728200646\n",
      "\n",
      "The average accuracy score with 15 folds is:  0.8874208854957353\n",
      "The average error rate with 15 folds is:  0.11257911450426465\n",
      "The average F1 score with 15 folds is:  0.9384420988430192\n",
      "\n",
      "Obesity Dataset:\n",
      "\n",
      "The average accuracy score with 5 folds is:  0.7782864441531376\n",
      "The average error rate with 5 folds is:  0.22171355584686228\n",
      "The average F1 score with 5 folds is:  0.7718611094144198\n",
      "\n",
      "The average accuracy score with 10 folds is:  0.7782929446481266\n",
      "The average error rate with 10 folds is:  0.22170705535187335\n",
      "The average F1 score with 10 folds is:  0.7713245418539595\n",
      "\n",
      "The average accuracy score with 15 folds is:  0.778260722728808\n",
      "The average error rate with 15 folds is:  0.22173927727119216\n",
      "The average F1 score with 15 folds is:  0.770089718338484\n",
      "\n",
      "Student Dataset:\n",
      "\n",
      "The average accuracy score with 5 folds is:  0.4837686344663089\n",
      "The average error rate with 5 folds is:  0.5162313655336911\n",
      "The average F1 score with 5 folds is:  0.4766536878560911\n",
      "\n",
      "The average accuracy score with 10 folds is:  0.48375\n",
      "The average error rate with 10 folds is:  0.51625\n",
      "The average F1 score with 10 folds is:  0.4785849099841692\n",
      "\n",
      "The average accuracy score with 15 folds is:  0.4838971106412967\n",
      "The average error rate with 15 folds is:  0.5161028893587033\n",
      "The average F1 score with 15 folds is:  0.47748630403491826\n"
     ]
    }
   ],
   "source": [
    "# Applying NB with CV and trying different folds\n",
    "\n",
    "print('Bank Marketing Dataset:')\n",
    "\n",
    "NB_with_CV(bank_marketing, 5)\n",
    "NB_with_CV(bank_marketing, 10)\n",
    "NB_with_CV(bank_marketing, 15)\n",
    "\n",
    "print('\\nObesity Dataset:')\n",
    "\n",
    "NB_with_CV(obesity, 5)\n",
    "NB_with_CV(obesity, 10)\n",
    "NB_with_CV(obesity, 15)\n",
    "\n",
    "print('\\nStudent Dataset:')\n",
    "\n",
    "NB_with_CV(student, 5)\n",
    "NB_with_CV(student, 10)\n",
    "NB_with_CV(student, 15)"
   ]
  },
  {
   "cell_type": "markdown",
   "metadata": {},
   "source": [
    "Provide your text answer to **Question 2** 100-150 words in this cell.\n",
    "\n",
    "Bank Marketing Dataset:\n",
    "F1 score = 0.93853\n",
    "F1 score with CV (5 folds) = 0.93852\n",
    "We can see that the F1 score has decreased only by 0.00001, so we can say there was almost no change compared to testing on the training data. In this case there is a aproblem , that this dataset is very umbalanced, label 'no' has 4000 instances and label 'yes' has only 421, so this could be the reason why CV is not working good here, it is possible that for some splits in CV label 'yes' barealy appear or didn't appear, so majority class will dominate in this case 'no'.\n",
    "\n",
    "Obesity Dataset:\n",
    "F1 score = 0.7717\n",
    "F1 score with CV (5 folds) = 0.7719\n",
    "In this case, we can see that CV has improved slightly the performance of our NB model compared to the first approach, which is an expected result, since CV is a better and more reliable approach to evaluate the performance of our model. The F scores are higher here because this dataset is more balanced, but there is still a class 'not-obese' that has around 54% of the instances, so there still a small imabalance in the data, which again can be problematic and lead to not accurate evaluation metrics.\n"
   ]
  },
  {
   "cell_type": "markdown",
   "metadata": {},
   "source": [
    "### Question 3: Feature Selection and Naive Bayes Assumptions\n",
    "\n",
    "a) The “Feature selection” lecture discussed properties of valuable features. Using Mutual information, plotting and data visualization, explore the utility of different features in the Obesity and one additional dataset of your choice. Are different features of different utility to your classification task? Explain why. [Your notebook should display all the plots and numbers you refer to in your answer.]\n",
    "\n",
    "b) Explain the ‘naivety’ assumption underlying Naive Bayes. (1) Why is it necessary? (2) Why can it be problematic? Ground your discussion in the features of two (or all) of the data sets provided for this assignment."
   ]
  },
  {
   "cell_type": "code",
   "execution_count": 12,
   "metadata": {},
   "outputs": [],
   "source": [
    "# Write additional code here, if necessary (you may insert additional code cells)\n",
    "\n",
    "import matplotlib.pyplot as plt\n",
    "from sklearn.feature_selection import mutual_info_classif as MIC\n",
    "\n",
    "def MI(filename):\n",
    "\n",
    "    data_num = preprocess(filename)\n",
    "    attributes = list(data_num.columns) #list of attributes\n",
    "    \n",
    "    # Converting attribute values from nominal to numeric\n",
    "    feat_group = []\n",
    "    for a in attributes: \n",
    "        att_values = list(data_num[a].unique()) # list of unique attribute values\n",
    "        \n",
    "        att_values_num_assigned = [] # Grouping attribute values assigned numbers\n",
    "        for i in range(len(att_values)): \n",
    "            data_num[a].replace(att_values[i], i, inplace =True)\n",
    "            att_values_num_assigned.append({att_values[i]: i})\n",
    "        \n",
    "        feat_group.append(att_values_num_assigned)\n",
    "    a_value_num_dict = dict(zip(attributes, feat_group)) # A dictionary whith the numbers assigned to the attribute values\n",
    "    \n",
    "    # Separating features from classes\n",
    "    X_data = data_num.iloc[:, :-1].values\n",
    "    Y_data = data_num.iloc[:, -1].values\n",
    "\n",
    "    # Calculating Mutual Information \n",
    "    mic_data = list(MIC(X_data, Y_data, discrete_features= True))\n",
    "    mic_data_dic = dict(zip(attributes, mic_data))\n",
    "\n",
    "    # Ordering the MI values in order descendent to observe first the most correlated features\n",
    "    mic_sorted = []\n",
    "    for i in sorted(mic_data_dic, key=mic_data_dic.get, reverse=True):\n",
    "        mic_sorted.append({i: mic_data_dic[i]})\n",
    "\n",
    "    return (data_num, mic_sorted, a_value_num_dict)\n"
   ]
  },
  {
   "cell_type": "markdown",
   "metadata": {},
   "source": [
    "**OBESITY DATASET**"
   ]
  },
  {
   "cell_type": "code",
   "execution_count": 13,
   "metadata": {},
   "outputs": [
    {
     "name": "stdout",
     "output_type": "stream",
     "text": [
      "MI for Obesity features in descendent order:\n",
      "{'family_history_with_overweight': 0.11046420226801838}\n",
      "{'CAEC': 0.08192593579980556}\n",
      "{'FAVC': 0.045861800578785895}\n",
      "{'NCP': 0.04022794157441888}\n",
      "{'SCC': 0.022762350723234584}\n",
      "{'FAF': 0.012891941500769569}\n",
      "{'MTRANS': 0.012838259556733506}\n",
      "{'CALC': 0.012793712928434037}\n",
      "{'FCVC': 0.012070911583406105}\n",
      "{'CH2O': 0.008714877772244917}\n",
      "{'TUE': 0.004173295207290581}\n",
      "{'SMOKE': 6.682369692997264e-05}\n",
      "{'Gender': 1.0314429225721788e-06}\n"
     ]
    }
   ],
   "source": [
    "# Calculating MI\n",
    "\n",
    "obesity_num, mic_obesity, num_assigned_ob = MI('obesity.csv')\n",
    "print('MI for Obesity features in descendent order:', *mic_obesity, sep='\\n')\n"
   ]
  },
  {
   "cell_type": "code",
   "execution_count": 14,
   "metadata": {},
   "outputs": [
    {
     "data": {
      "image/png": "[encoded data removed]",
      "text/plain": [
       "<Figure size 576x288 with 2 Axes>"
      ]
     },
     "metadata": {
      "needs_background": "light"
     },
     "output_type": "display_data"
    },
    {
     "data": {
      "image/png": "[encoded data removed]",
      "text/plain": [
       "<Figure size 576x288 with 2 Axes>"
      ]
     },
     "metadata": {
      "needs_background": "light"
     },
     "output_type": "display_data"
    },
    {
     "data": {
      "image/png": "[encoded data removed]",
      "text/plain": [
       "<Figure size 2520x576 with 4 Axes>"
      ]
     },
     "metadata": {
      "needs_background": "light"
     },
     "output_type": "display_data"
    }
   ],
   "source": [
    "# Analysing correlation between features and the label with graphs \n",
    "\n",
    "# Graph 1: Feature 'family_history_with_overweight', the most correlated\n",
    "\n",
    "classes_ob = ['Not obese', 'Obese']\n",
    "obesity_num[\"Obesity\"] = obesity_num[\"label\"].map(dict(zip(range(0,2), classes_ob)))\n",
    "a_values_f = ['Family hist with overweight: Yes', 'Family hist with overweight: No']\n",
    "obesity_num['family_hist_with_overweight'] = obesity_num['family_history_with_overweight'].map(dict(zip(range(len(a_values_f)), a_values_f)))\n",
    "\n",
    "att_plot = obesity_num.hist(column = ['label'], by= 'family_hist_with_overweight', figsize= (8,4))\n",
    "for x in att_plot:\n",
    "    x.set_xlabel(\"Not obese = 0 Obese = 1\",labelpad=10, size=11)\n",
    "    x.set_ylabel(\"Number of people\", labelpad=10,  size=11)\n",
    "\n",
    "# Graph 2: Feature 'Gender', the least correlated\n",
    "\n",
    "a_values_g = ['Male', 'Female']\n",
    "obesity_num['Gender_'] = obesity_num['Gender'].map(dict(zip(range(len(a_values_g)), a_values_g)))\n",
    "\n",
    "att_plot1 = obesity_num.hist(column = ['label'], by= 'Gender_', figsize= (8,4))\n",
    "for x in att_plot1:\n",
    "    x.set_xlabel(\"Not obese = 0 Obese = 1\",labelpad=10, size=11)\n",
    "    x.set_ylabel(\"Number of people\", labelpad=10,  size=11)\n",
    "\n",
    "# Graph 3: Analysing correlation between feature 'Gender' and other features\n",
    "\n",
    "att_plot2 = obesity_num.hist(column = ['CAEC', 'FAVC', 'FCVC', 'NCP', 'CALC', 'SMOKE'], by= 'Gender_', layout =(1, 4), figsize= (35,8), legend = True)\n",
    "for x in att_plot2:\n",
    "    x.set_ylabel(\"Number of people\", labelpad=10,  size=11)\n",
    "    \n",
    "    vals = x.get_yticks()\n",
    "    for tick in vals:\n",
    "        x.axhline(y=tick, linestyle='dashed', alpha=0.4, color='#eeeeee', zorder=1)\n",
    "    "
   ]
  },
  {
   "cell_type": "markdown",
   "metadata": {},
   "source": [
    "**BANK MARKETING**"
   ]
  },
  {
   "cell_type": "code",
   "execution_count": 15,
   "metadata": {},
   "outputs": [
    {
     "name": "stdout",
     "output_type": "stream",
     "text": [
      "MI for Bank Marketing features in descendent order:\n",
      "{'poutcome': 0.0260492772196059}\n",
      "{'month': 0.02072607022014162}\n",
      "{'contact': 0.011322562767190611}\n",
      "{'job': 0.006925135731114565}\n",
      "{'housing': 0.005425480697534818}\n",
      "{'loan': 0.002850843525016744}\n",
      "{'marital': 0.0020604052361896663}\n",
      "{'education': 0.001639668161485034}\n",
      "{'default': 8.418704743398675e-07}\n"
     ]
    }
   ],
   "source": [
    "# Calculating MI\n",
    "\n",
    "bank_marketing_num, mic_bank_marketing, num_assigned_bn = MI('bank-marketing.csv')\n",
    "print('MI for Bank Marketing features in descendent order:', *mic_bank_marketing, sep='\\n') "
   ]
  },
  {
   "cell_type": "code",
   "execution_count": 16,
   "metadata": {},
   "outputs": [
    {
     "data": {
      "image/png": "[encoded data removed]",
      "text/plain": [
       "<Figure size 1152x288 with 4 Axes>"
      ]
     },
     "metadata": {
      "needs_background": "light"
     },
     "output_type": "display_data"
    },
    {
     "data": {
      "image/png": "[encoded data removed]",
      "text/plain": [
       "<Figure size 576x288 with 2 Axes>"
      ]
     },
     "metadata": {
      "needs_background": "light"
     },
     "output_type": "display_data"
    },
    {
     "data": {
      "image/png": "[encoded data removed]",
      "text/plain": [
       "<Figure size 2160x576 with 3 Axes>"
      ]
     },
     "metadata": {
      "needs_background": "light"
     },
     "output_type": "display_data"
    }
   ],
   "source": [
    "# Analysing correlation between features and classes\n",
    "\n",
    "# Graph 1: Feature 'poutcome' , the most correlated \n",
    "\n",
    "classes_bm = ['No', 'Yes']\n",
    "bank_marketing_num[\"Subscribed_a_term_deposit\"] = bank_marketing_num[\"label\"].map(dict(zip(range(len(classes_bm)), classes_bm)))\n",
    "a_values_po = ['poutcome: unknown', 'poutcome: failure', 'poutcome: other', 'poutcome: success']\n",
    "bank_marketing_num['Previous_mkt_campaign_outcome'] = bank_marketing_num['poutcome'].map(dict(zip(range(len(a_values_po)), a_values_po)))\n",
    "\n",
    "att_plot3 = bank_marketing_num.hist(column = ['label'], by= 'Previous_mkt_campaign_outcome', layout =(1, 4),  figsize= (16,4))\n",
    "for x in att_plot3:\n",
    "    x.set_xlabel(\"Suscribed a term deposit: No = 0, Yes = 1\",labelpad=10, size=11)\n",
    "    x.set_ylabel(\"Number of people\", labelpad=10,  size=11)\n",
    "    \n",
    "# Graph 2: Feature 'default' , the least correlated \n",
    "\n",
    "a_values_def = ['Default: no', 'Default: yes']\n",
    "bank_marketing_num['Has_credit_in_default'] = bank_marketing_num['default'].map(dict(zip(range(len(a_values_def)), a_values_def)))\n",
    "\n",
    "att_plot4 = bank_marketing_num.hist(column = ['label'], by= 'Has_credit_in_default', figsize= (8,4))\n",
    "\n",
    "for x in att_plot4:\n",
    "    x.set_xlabel(\"Suscribed a term deposit: No = 0, Yes = 1\",labelpad=10, size=11)\n",
    "    x.set_ylabel(\"Number of people\", labelpad=10,  size=11)\n",
    "\n",
    "# Graph 3: Analysing correlation between feature 'loan' and other features\n",
    "\n",
    "a_values_lo = ['Personal loan: no', 'Personal loan: yes']\n",
    "bank_marketing_num['Personal_loan'] = bank_marketing_num['loan'].map(dict(zip(range(len(a_values_lo)), a_values_lo)))\n",
    "\n",
    "att_plot5 = bank_marketing_num.hist(column = ['marital', 'education', 'default', 'housing', 'contact', 'poutcome'], by= 'Personal_loan', layout =(1, 3), figsize= (30,8), legend = 'True')\n",
    "for x in att_plot5:\n",
    "    x.set_ylabel(\"Number of people\", labelpad=10,  size=11)\n",
    "    \n",
    "    vals = x.get_yticks()\n",
    "    for tick in vals:\n",
    "        x.axhline(y=tick, linestyle='dashed', alpha=0.4, color='#eeeeee', zorder=1)"
   ]
  },
  {
   "cell_type": "markdown",
   "metadata": {},
   "source": [
    "**Answer to Question 3.a**\n",
    "\n",
    "Obesity Dataset:\n",
    "\n",
    "The feature that is the most correlated with the label is 'family_history_with_overweight' with a MI value of 0.11, followed by 'CAEC' (0.08), meaning they are good predictors, while 'Gender'(MI=0.000001) is not. The histograms confirm the correlations, in the graphs of 'family_history_with_overweight', the frequencies of classes are different for each feature value, it means there is a relationship. People who has family history with overweight with family are more likely to be obese, while people who don't have family history with overweight are much less likely to be obese. Meanwhile, in the graphs from 'Gender', we can see that the distribution from Males and Females don't differ much, so the realtionship is very weak between 'Gender' and 'label', it means both are almost equally likely to be obese, so this is not a useful feature. We can also see some correlations bewtween features, such as 'Gender' and 'FCVC', while 'SMOKE' is not correlated with 'Gender'.\n",
    "\n",
    "\n",
    "Bank Marketing Dataset:\n",
    "\n",
    "The highest MI is 0.026 from 'poutcome',  and the lowest is 'default' with 8.4e-7. For 'poutcome' we can see that the distribution of its feature vvalues look somewhat similar except for 'success' which looks very different from the rest, so it confirms that there is a relationship between 'poutcome' and the label. This feature could be useful as a predictor, we can say that if the outcome of previous campaign has been successful is more likely that people subscribed a term deposit, but if the it has failed or had other outcome, it is less likely that people subscribed a term deposit. In the 'Default' graphs, we can see clearly that both  have similar distribution, thus there is a very weak relationship between having credit in default and people subscribing a term deposit. In the last graph we can appreciate that features look to have similar distributions with 'loan' (weak relationships), but there still some dependencies, for example with 'marital' saying single people (value:1) are less likely to have a personal loan than married or divorced people."
   ]
  },
  {
   "cell_type": "markdown",
   "metadata": {},
   "source": [
    "**Answer to Question 3.b**\n",
    "\n",
    "The 'naivety' assumption of NB states that the features are conditionally independent given the class, it is necessary because it let us use the Bayes Rule to calculate the  probabilities for each class and classify an instance which reduces complexity, because if this assumption is not held probabilities would be much harder to calculate. \n",
    "However, it could be problematic because this assumption doesn't reflect the real world. Normally dependencies between variables exist, as we can see in our datasets,for example in Obesity we can see that females are more likely to eat more frequent vegetables than males, this means there is dependency between Gender and Frequency of eating vegetables, also in student we can assume a pretty obvious dependency between 'address' and 'travel time'. So NB could be considered a non-realistic model, nevertheless, in practice it works good because dependecies working together lead to good results, and if not they cancell each other reducing the impact in the predictions, leading again to good results.  "
   ]
  },
  {
   "cell_type": "markdown",
   "metadata": {},
   "source": [
    "### Question 4: Feature Selection and Ethics\n",
    "\n",
    "As machine learning practitioners, we should be aware of possible ethical considerations around the applications we develop. The classifier you developed in this assignment could for example be used to classify college applicants into admitted vs not-admitted – depending on their predicted grade in the Student dataset.\n",
    "\n",
    "a) Discuss ethical problems which might arise in this application and lead to unfair treatment of the applicants. Ground your discussion in the set of features provided in the student data set.\n",
    "\n",
    "b) Remove all ethically problematic features from the data set (use your own judgment), and train your Naive Bayes classifier on the resulting data set. How does the performance change in comparison to the full classifier?\n",
    "\n",
    "c) The approach to fairness we have adopted is called “fairness through unawareness” – we simply deleted any questionable features from our data. Is removing all problematic features as done in part (b) guarantee a fair classifier? Explain Why or Why not?"
   ]
  },
  {
   "cell_type": "code",
   "execution_count": 17,
   "metadata": {},
   "outputs": [
    {
     "name": "stdout",
     "output_type": "stream",
     "text": [
      "\n",
      "The average accuracy score with 10 folds is:  0.4482692307692308\n",
      "The average error rate with 10 folds is:  0.5517307692307691\n",
      "The average F1 score with 10 folds is:  0.43699649521745004\n"
     ]
    }
   ],
   "source": [
    "# Taking the ethically problematic features out\n",
    "new_student = student.loc[:, ['school', 'reason', 'studytime', 'failures', 'schoolsup', 'activities', 'nursery', 'higher', 'romantic', 'freetime', 'goout', 'Dalc', 'Walc', 'health', 'absences', 'label']]\n",
    "\n",
    "# Applying NB with CV to the new dataset\n",
    "NB_with_CV (new_student, 10)"
   ]
  },
  {
   "cell_type": "markdown",
   "metadata": {},
   "source": [
    "**Answer to Question 4.a**\n",
    "\n",
    "If that is the case, there are some features in the student dataset that could be ethically problematict. For example features like sex, family size, parents status, guardian, family educational support and quality of family relationships which could lead to an unfair prediction since they refer to characteristics that shouldn't have bias in the final result, i.e. Females and Males should have equally opportunity to get admitted, as well as if they have any different situation with their families, student performance should be independent from family situations, even though they could be related. On the other hand, features like address, mothers education, fathers education, mothers job, fathers job, traveltime, extra paid classes, and internet access could have hidden relationships with the economic status of the students and their families, which again they shouldn't have any bias, since economic status should not be a predictor if a student is admittted or not to college.\n"
   ]
  },
  {
   "cell_type": "markdown",
   "metadata": {},
   "source": [
    "**Answer to Question 4.b**\n",
    "\n",
    "If we look at the results we can see that previously with all the features the F1-score using CV with 10 folds was 0.479, but when we took out the ethically problematic features the F1-score decreased to 0.437, this means that some the features that we took were good predictors (had a relationship with the label)  thus they were indeed having a bias in the prediction, so in this case, dents could have been admitted or not admitted to college under potential unfair circumstances. Nevertheless, correlation doesn't necessarily lead to causation, there are other factors that we have to consider that could lead to bias even after removing these ethical problematic features.\n"
   ]
  },
  {
   "cell_type": "markdown",
   "metadata": {},
   "source": [
    "**Answer to Question 4.c**\n",
    "\n",
    "I think applying \"Fairness through awareness\" doesn't guarantee a fair classifier because there are other factors tha may cause bias, for example people who label the data may have had some bias while doing it. Other factor is that normally and like we se ein this datasets, data is not balanced, they used to have errors or missing values and also we don't know if the training data is representing well the population, sometimes some samples and values are not randomly distributed so if the training data is not representative, no matter which classifier we use, the predictions will be not accurate. And other reason as we talk in the lectures, some training datatset could take into account past data that could have some bias leading to biased predictions, even if we apply cross-validation, if the past data is larger and had bias could still affect the prediction of current events.\n",
    "\n",
    "\n"
   ]
  },
  {
   "cell_type": "markdown",
   "metadata": {},
   "source": [
    "   <b>Signed by</b>: Alejandra Victoria Abril Pareja\n",
    "   \n",
    "   <b>Dated</b>: 02/09/2022"
   ]
  }
 ],
 "metadata": {
  "kernelspec": {
   "display_name": "Python 3 (ipykernel)",
   "language": "python",
   "name": "python3"
  },
  "language_info": {
   "codemirror_mode": {
    "name": "ipython",
    "version": 3
   },
   "file_extension": ".py",
   "mimetype": "text/x-python",
   "name": "python",
   "nbconvert_exporter": "python",
   "pygments_lexer": "ipython3",
   "version": "3.9.12"
  }
 },
 "nbformat": 4,
 "nbformat_minor": 4
}
